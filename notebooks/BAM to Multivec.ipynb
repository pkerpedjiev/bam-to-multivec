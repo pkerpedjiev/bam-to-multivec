{
 "cells": [
  {
   "cell_type": "code",
   "execution_count": 1,
   "metadata": {},
   "outputs": [],
   "source": [
    "%load_ext autoreload\n",
    "%autoreload 2"
   ]
  },
  {
   "cell_type": "code",
   "execution_count": 2,
   "metadata": {},
   "outputs": [
    {
     "data": {
      "application/javascript": [
       "\n",
       "require([\"https://unpkg.com/higlass-multivec/dist/higlass-multivec\"],\n",
       "    function(hglib) {\n",
       "\n",
       "});\n"
      ],
      "text/plain": [
       "<IPython.core.display.Javascript object>"
      ]
     },
     "metadata": {},
     "output_type": "display_data"
    }
   ],
   "source": [
    "%%javascript\n",
    "\n",
    "require([\"https://unpkg.com/higlass-multivec/dist/higlass-multivec\"],\n",
    "    function(hglib) {\n",
    "\n",
    "});"
   ]
  },
  {
   "cell_type": "code",
   "execution_count": 3,
   "metadata": {},
   "outputs": [
    {
     "data": {
      "application/javascript": [
       "\n",
       "require([\"https://unpkg.com/higlass-pileup/dist/higlass-pileup.min.js\"],\n",
       "    function(hglib) {\n",
       "\n",
       "});\n"
      ],
      "text/plain": [
       "<IPython.core.display.Javascript object>"
      ]
     },
     "metadata": {},
     "output_type": "display_data"
    }
   ],
   "source": [
    "%%javascript\n",
    "\n",
    "require([\"https://unpkg.com/higlass-pileup/dist/higlass-pileup.min.js\"],\n",
    "    function(hglib) {\n",
    "\n",
    "});"
   ]
  },
  {
   "cell_type": "code",
   "execution_count": 5,
   "metadata": {},
   "outputs": [],
   "source": [
    "import pysam\n",
    "\n",
    "filename = '../data/SRR1770413.sorted.short.bam'\n",
    "indexfile = '../data/SRR1770413.sorted.short.bam.bai'\n",
    "\n",
    "f = pysam.AlignmentFile(filename, index_filename=indexfile)"
   ]
  },
  {
   "cell_type": "code",
   "execution_count": 6,
   "metadata": {},
   "outputs": [],
   "source": [
    "import pysam\n",
    "\n"
   ]
  },
  {
   "cell_type": "code",
   "execution_count": 195,
   "metadata": {},
   "outputs": [
    {
     "name": "stdout",
     "output_type": "stream",
     "text": [
      "reads: 170\n",
      "match [0. 0. 0. 0. 0. 0. 0. 0. 0. 0.]\n",
      "subs_a [[-inf]\n",
      " [-inf]\n",
      " [-inf]\n",
      " [-inf]\n",
      " [-inf]]\n",
      "CPU times: user 565 ms, sys: 97.2 ms, total: 662 ms\n",
      "Wall time: 665 ms\n"
     ]
    },
    {
     "name": "stderr",
     "output_type": "stream",
     "text": [
      "<timed exec>:68: RuntimeWarning: divide by zero encountered in log\n"
     ]
    }
   ],
   "source": [
    "%%time\n",
    "\n",
    "import numpy as np\n",
    "from clodius.tiles.bam import get_cigar_substitutions\n",
    "\n",
    "filename = '../data/ont.10K.bam'\n",
    "indexfile = '../data/ont.10K.bam.bai'\n",
    "\n",
    "f = pysam.AlignmentFile(filename, index_filename=indexfile)\n",
    "\n",
    "reads = list(f.fetch('chr1', 0, 100000))\n",
    "\n",
    "chrom_len = 2000000 + 1\n",
    "match = np.zeros((chrom_len,))\n",
    "\n",
    "subs = {\n",
    "    'A': np.zeros((chrom_len,)),\n",
    "    'C': np.zeros((chrom_len,)),\n",
    "    'G': np.zeros((chrom_len,)),\n",
    "    'T': np.zeros((chrom_len,)),\n",
    "    'S': np.zeros((chrom_len,)),\n",
    "    'M': np.zeros((chrom_len,)),\n",
    "    'I': np.zeros((chrom_len,)),\n",
    "    'D': np.zeros((chrom_len,)),\n",
    "}\n",
    "\n",
    "for read in reads:\n",
    "    ap = [p for p in read.get_aligned_pairs(with_seq=True, matches_only=True) if p[2].islower()]\n",
    "#     print(\"read\", read.reference_start)\n",
    "    subs['M'][read.reference_start+1:read.reference_end+1] += 1\n",
    "    \n",
    "    for start, op, oplen in get_cigar_substitutions(read):\n",
    "        if op == 'I':\n",
    "            subs[op][start+1] += 1\n",
    "        else:\n",
    "            subs[op][start+1:start+1 + oplen] += 1\n",
    "    \n",
    "#     print(\"read.cigartuples\", get_cigar_substitutions(read))\n",
    "    for p in ap:\n",
    "        match[p[1]] -= 1\n",
    "#         print('read.query_sequence', read.query_sequence)\n",
    "#         print('read.query_sequence[p[0]]', read.query_sequence[p[0]])\n",
    "        subs[read.query_sequence[p[0]]][p[1]+1] += 1\n",
    "#     print(ap)\n",
    "    \n",
    "\n",
    "array = {\n",
    "    'chr1': np.array([subs['A'], subs['T'], subs['G'],\n",
    "                      subs['C'], subs['S'], subs['M'],\n",
    "                     subs['I'], subs['D']]).T\n",
    "}\n",
    "\n",
    "# array = {\n",
    "#     'chr1': np.array([\n",
    "#         np.log(subs['A']),\n",
    "#         np.log(subs['T']), \n",
    "#         np.log(subs['G']),\n",
    "#         np.log(subs['C']),\n",
    "#         np.log(subs['S']),\n",
    "#         np.log(subs['M']),\n",
    "#         np.log(subs['I']), \n",
    "#         np.log(subs['D'])]).T\n",
    "# }\n",
    "\n",
    "# subs['A'][2] = 1\n",
    "# subs['A'][3] = 1\n",
    "\n",
    "print(\"reads:\", len(reads))\n",
    "print(\"match\", match[:10])\n",
    "print(\"subs_a\", log_sum_exp_agg(np.array([np.log(subs['A'][:10])]).T))"
   ]
  },
  {
   "cell_type": "code",
   "execution_count": 196,
   "metadata": {
    "scrolled": true
   },
   "outputs": [
    {
     "data": {
      "text/plain": [
       "[<matplotlib.lines.Line2D at 0x7f7ff1dbfa00>]"
      ]
     },
     "execution_count": 196,
     "metadata": {},
     "output_type": "execute_result"
    },
    {
     "data": {
      "image/png": "[encoded data removed]",
      "text/plain": [
       "<Figure size 432x288 with 1 Axes>"
      ]
     },
     "metadata": {
      "needs_background": "light"
     },
     "output_type": "display_data"
    }
   ],
   "source": [
    "from matplotlib import pyplot\n",
    "pyplot.plot(range(len(match)), match)"
   ]
  },
  {
   "cell_type": "code",
   "execution_count": 192,
   "metadata": {},
   "outputs": [
    {
     "name": "stderr",
     "output_type": "stream",
     "text": [
      "/Users/pete/miniconda3/lib/python3.8/site-packages/scipy-1.5.2-py3.8-macosx-10.9-x86_64.egg/scipy/special/_logsumexp.py:118: RuntimeWarning: invalid value encountered in log\n",
      "  out = np.log(s)\n"
     ]
    },
    {
     "name": "stdout",
     "output_type": "stream",
     "text": [
      "CPU times: user 1.48 s, sys: 193 ms, total: 1.68 s\n",
      "Wall time: 1.7 s\n"
     ]
    }
   ],
   "source": [
    "%%time\n",
    "\n",
    "from scipy.special import logsumexp\n",
    "\n",
    "from higlass.tilesets import Tileset, multivec\n",
    "\n",
    "output_file = \"/Users/pete/tmp/my_file.multires.hdf5\"\n",
    "\n",
    "def log_sum_exp_agg(x):\n",
    "    a = x.T.reshape((x.shape[1], -1, 2))\n",
    "    return logsumexp(a, axis=2).T\n",
    "\n",
    "def sum_agg(x):\n",
    "    return np.nansum(x.T.reshape((x.shape[1], -1, 2)), axis=2).T\n",
    "        \n",
    "cm.create_multivec_multires(\n",
    "    array,\n",
    "    [('chr1', chrom_len)],\n",
    "#     agg=sum_agg,\n",
    "    agg=log_sum_exp_agg,\n",
    "    \n",
    "    starting_resolution=1,\n",
    "    row_infos = ['a', \"t\", 'g', 'c', 's', 'm', 'i', 'd'],\n",
    "    output_file=output_file,\n",
    "    tile_size=256\n",
    ")\n",
    "\n",
    "colorScale = [\n",
    "            '#08519c',  #A\n",
    "            '#6baed6',  #T\n",
    "            '#993404',  #G\n",
    "            '#fe9929',  #C\n",
    "            '#808080',  #S\n",
    "            '#DCDCDC',  #M\n",
    "            'rgba(255, 0, 255, 0.5)',      #I\n",
    "            'rgba(255, 128, 128, 0.5)'      #D\n",
    "          ]\n",
    "\n",
    "\n",
    "ts = multivec(output_file)"
   ]
  },
  {
   "cell_type": "code",
   "execution_count": 193,
   "metadata": {},
   "outputs": [],
   "source": [
    "from higlass.tilesets import bam, multivec\n",
    "\n",
    "ts = multivec(output_file)\n",
    "bam_ts = bam(filename,indexfile)"
   ]
  },
  {
   "cell_type": "code",
   "execution_count": 194,
   "metadata": {
    "scrolled": true
   },
   "outputs": [
    {
     "data": {
      "application/vnd.jupyter.widget-view+json": {
       "model_id": "98d927c014204d5699ebab698cbab0b9",
       "version_major": 2,
       "version_minor": 0
      },
      "text/plain": [
       "HiGlassDisplay(viewconf={'editable': True, 'views': [{'uid': 'FN7uBpjQQoO1zXzeZ5HLTQ', 'tracks': {'top': [{'ty…"
      ]
     },
     "metadata": {},
     "output_type": "display_data"
    }
   ],
   "source": [
    "import higlass\n",
    "from higlass.client import Track, View\n",
    "\n",
    "display, server, viewconf = higlass.display(\n",
    "    [View([\n",
    "        Track('top-axis', height=20),\n",
    "        Track(track_type=\"horizontal-stacked-bar\", position='top', tileset=ts, height=50, options={\"colorScale\": colorScale} ),\n",
    "        Track(track_type=\"pileup\", position='top', tileset=bam_ts, height=200 )\n",
    "    ], initialXDomain = [\n",
    "        1020,\n",
    "        1140\n",
    "      ])]\n",
    ")\n",
    "display"
   ]
  },
  {
   "cell_type": "code",
   "execution_count": 113,
   "metadata": {},
   "outputs": [],
   "source": [
    "from higlass.tilesets import Tileset, bam\n",
    "\n",
    "# def bam(filepath, index_filename, uuid=None, **kwargs):\n",
    "#     from clodius.tiles.bam import tileset_info, tiles\n",
    "\n",
    "#     return Tileset(\n",
    "#         uuid=uuid,\n",
    "#         tileset_info=lambda: tileset_info(filepath),\n",
    "#         tiles=lambda tile_ids: tiles(filepath, tile_ids, index_filename=index_filename),\n",
    "#         **kwargs\n",
    "#     )\n",
    "\n",
    "bam_ts = bam(filename,indexfile)"
   ]
  },
  {
   "cell_type": "code",
   "execution_count": 114,
   "metadata": {},
   "outputs": [
    {
     "data": {
      "application/vnd.jupyter.widget-view+json": {
       "model_id": "90e2f4741fdd4dbb8effdae3337112d2",
       "version_major": 2,
       "version_minor": 0
      },
      "text/plain": [
       "HiGlassDisplay(viewconf={'editable': True, 'views': [{'uid': 'KSNHPIFhRbWkKUWm3v0CAw', 'tracks': {'top': [{'ty…"
      ]
     },
     "metadata": {},
     "output_type": "display_data"
    }
   ],
   "source": [
    "import higlass\n",
    "from higlass.tilesets import Tileset, bam\n",
    "from higlass.client import Track, View\n",
    "\n",
    "bam_ts = bam(filename,indexfile)\n",
    "\n",
    "display, server, viewconf = higlass.display(\n",
    "    [View([\n",
    "        Track('top-axis', height=20),\n",
    "        Track(track_type=\"pileup\", position='top', tileset=bam_ts, height=200 )\n",
    "    ], initialXDomain = [\n",
    "        0,\n",
    "        2000\n",
    "      ])]\n",
    ")\n",
    "display"
   ]
  },
  {
   "cell_type": "code",
   "execution_count": null,
   "metadata": {},
   "outputs": [],
   "source": []
  }
 ],
 "metadata": {
  "kernelspec": {
   "display_name": "Python 3",
   "language": "python",
   "name": "python3"
  },
  "language_info": {
   "codemirror_mode": {
    "name": "ipython",
    "version": 3
   },
   "file_extension": ".py",
   "mimetype": "text/x-python",
   "name": "python",
   "nbconvert_exporter": "python",
   "pygments_lexer": "ipython3",
   "version": "3.8.3"
  }
 },
 "nbformat": 4,
 "nbformat_minor": 4
}
