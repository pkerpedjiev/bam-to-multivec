{
 "cells": [
  {
   "cell_type": "code",
   "execution_count": 240,
   "metadata": {},
   "outputs": [
    {
     "name": "stdout",
     "output_type": "stream",
     "text": [
      "The autoreload extension is already loaded. To reload it, use:\n",
      "  %reload_ext autoreload\n"
     ]
    }
   ],
   "source": [
    "%load_ext autoreload\n",
    "%autoreload 2"
   ]
  },
  {
   "cell_type": "code",
   "execution_count": 241,
   "metadata": {},
   "outputs": [
    {
     "data": {
      "application/javascript": [
       "\n",
       "// require([\"https://unpkg.com/higlass-multivec/dist/higlass-multivec\"],\n",
       "//     function(hglib) {\n",
       "\n",
       "// });\n",
       "\n",
       "require([\"http://localhost:8082/higlass-multivec.js\"],\n",
       "    function(hglib) {\n",
       "\n",
       "});\n"
      ],
      "text/plain": [
       "<IPython.core.display.Javascript object>"
      ]
     },
     "metadata": {},
     "output_type": "display_data"
    }
   ],
   "source": [
    "%%javascript\n",
    "\n",
    "// require([\"https://unpkg.com/higlass-multivec/dist/higlass-multivec\"],\n",
    "//     function(hglib) {\n",
    "\n",
    "// });\n",
    "\n",
    "require([\"http://localhost:8082/higlass-multivec.js\"],\n",
    "    function(hglib) {\n",
    "\n",
    "});"
   ]
  },
  {
   "cell_type": "code",
   "execution_count": 242,
   "metadata": {},
   "outputs": [
    {
     "data": {
      "application/javascript": [
       "\n",
       "require([\"https://unpkg.com/higlass-pileup/dist/higlass-pileup.min.js\"],\n",
       "    function(hglib) {\n",
       "\n",
       "});\n"
      ],
      "text/plain": [
       "<IPython.core.display.Javascript object>"
      ]
     },
     "metadata": {},
     "output_type": "display_data"
    }
   ],
   "source": [
    "%%javascript\n",
    "\n",
    "require([\"https://unpkg.com/higlass-pileup/dist/higlass-pileup.min.js\"],\n",
    "    function(hglib) {\n",
    "\n",
    "});"
   ]
  },
  {
   "cell_type": "code",
   "execution_count": 318,
   "metadata": {},
   "outputs": [
    {
     "data": {
      "application/vnd.jupyter.widget-view+json": {
       "model_id": "2d0e9f4da362470f8aac049cd719419f",
       "version_major": 2,
       "version_minor": 0
      },
      "text/plain": [
       "HiGlassDisplay(viewconf={'editable': True, 'views': [{'uid': 'HnyLYcamS1-3pirm7RYKHw', 'tracks': {'top': [{'ty…"
      ]
     },
     "metadata": {},
     "output_type": "display_data"
    }
   ],
   "source": [
    "import higlass\n",
    "from higlass.tilesets import multivec, bam, Tileset\n",
    "from higlass.client import Track, View\n",
    "\n",
    "# ts = multivec(\"../data/t2t/chm13.draft_v1.0.hifi.bam.mv5\")\n",
    "# bam_ts = bam(\n",
    "#     'https://s3.amazonaws.com/nanopore-human-wgs/chm13/assemblies/alignments/chm13.draft_v1.0.hifi.bam'\n",
    "# )\n",
    "\n",
    "ts = multivec(\"../data/t2t/chm13.draft_v1.0.pcrfree.bam.mv5\")\n",
    "bam_ts = bam(\n",
    "    'https://s3.amazonaws.com/nanopore-human-wgs/chm13/assemblies/alignments/chm13.draft_v1.0.pcrfree.bam'\n",
    ")\n",
    "\n",
    "display, server, viewconf = higlass.display(\n",
    "    [View([\n",
    "        Track('top-axis', height=20),\n",
    "        Track('chromosome-labels', server=\"https://resgen.io/api/v1\",\n",
    "              tilesetUid=\"P5Hodo9FS--bLAai7Ibjrg\"),\n",
    "        Track(track_type=\"horizontal-stacked-bar\",\n",
    "              position='top', tileset=ts, height=100,\n",
    "              options={\"colorScale\": colorScale, \"valueScaling\": \"log\"} ),\n",
    "        Track(track_type=\"pileup\", position=\"top\", tileset=bam_ts, height=200)\n",
    "    ], initialXDomain=[744180000, 744260000])]\n",
    "#     ], initialXDomain=[692477935.3862978, 692547772.7935884])]\n",
    ")\n",
    "display\n",
    "\n",
    "# regions: 2110500000\n",
    "# regions: 2216940000\n",
    "# regions: 2320000000\n",
    "# regions: 2810000000\n",
    "# regions: 2856000000\n",
    "# regions: 744214655 (solitary deletion)"
   ]
  },
  {
   "cell_type": "code",
   "execution_count": 320,
   "metadata": {},
   "outputs": [
    {
     "ename": "ValueError",
     "evalue": "Unable to create dataset (name already exists)",
     "output_type": "error",
     "traceback": [
      "\u001b[0;31m---------------------------------------------------------------------------\u001b[0m",
      "\u001b[0;31mValueError\u001b[0m                                Traceback (most recent call last)",
      "\u001b[0;32m<ipython-input-320-713519979248>\u001b[0m in \u001b[0;36m<module>\u001b[0;34m\u001b[0m\n\u001b[1;32m     15\u001b[0m \u001b[0;34m\u001b[0m\u001b[0m\n\u001b[1;32m     16\u001b[0m \u001b[0;32mimport\u001b[0m \u001b[0mjson\u001b[0m\u001b[0;34m\u001b[0m\u001b[0;34m\u001b[0m\u001b[0m\n\u001b[0;32m---> 17\u001b[0;31m \u001b[0mf\u001b[0m\u001b[0;34m[\u001b[0m\u001b[0;34m'info'\u001b[0m\u001b[0;34m]\u001b[0m\u001b[0;34m.\u001b[0m\u001b[0mcreate_dataset\u001b[0m\u001b[0;34m(\u001b[0m\u001b[0;34m'row_infos'\u001b[0m\u001b[0;34m,\u001b[0m \u001b[0mdata\u001b[0m\u001b[0;34m=\u001b[0m\u001b[0mjson\u001b[0m\u001b[0;34m.\u001b[0m\u001b[0mdumps\u001b[0m\u001b[0;34m(\u001b[0m\u001b[0mrow_infos\u001b[0m\u001b[0;34m)\u001b[0m\u001b[0;34m)\u001b[0m\u001b[0;34m\u001b[0m\u001b[0;34m\u001b[0m\u001b[0m\n\u001b[0m\u001b[1;32m     18\u001b[0m \u001b[0mprint\u001b[0m\u001b[0;34m(\u001b[0m\u001b[0mf\u001b[0m\u001b[0;34m[\u001b[0m\u001b[0;34m'info'\u001b[0m\u001b[0;34m]\u001b[0m\u001b[0;34m)\u001b[0m\u001b[0;34m\u001b[0m\u001b[0;34m\u001b[0m\u001b[0m\n",
      "\u001b[0;32m~/miniconda3/lib/python3.8/site-packages/h5py/_hl/group.py\u001b[0m in \u001b[0;36mcreate_dataset\u001b[0;34m(self, name, shape, dtype, data, **kwds)\u001b[0m\n\u001b[1;32m    146\u001b[0m                     \u001b[0mgroup\u001b[0m \u001b[0;34m=\u001b[0m \u001b[0mself\u001b[0m\u001b[0;34m.\u001b[0m\u001b[0mrequire_group\u001b[0m\u001b[0;34m(\u001b[0m\u001b[0mparent_path\u001b[0m\u001b[0;34m)\u001b[0m\u001b[0;34m\u001b[0m\u001b[0;34m\u001b[0m\u001b[0m\n\u001b[1;32m    147\u001b[0m \u001b[0;34m\u001b[0m\u001b[0m\n\u001b[0;32m--> 148\u001b[0;31m             \u001b[0mdsid\u001b[0m \u001b[0;34m=\u001b[0m \u001b[0mdataset\u001b[0m\u001b[0;34m.\u001b[0m\u001b[0mmake_new_dset\u001b[0m\u001b[0;34m(\u001b[0m\u001b[0mgroup\u001b[0m\u001b[0;34m,\u001b[0m \u001b[0mshape\u001b[0m\u001b[0;34m,\u001b[0m \u001b[0mdtype\u001b[0m\u001b[0;34m,\u001b[0m \u001b[0mdata\u001b[0m\u001b[0;34m,\u001b[0m \u001b[0mname\u001b[0m\u001b[0;34m,\u001b[0m \u001b[0;34m**\u001b[0m\u001b[0mkwds\u001b[0m\u001b[0;34m)\u001b[0m\u001b[0;34m\u001b[0m\u001b[0;34m\u001b[0m\u001b[0m\n\u001b[0m\u001b[1;32m    149\u001b[0m             \u001b[0mdset\u001b[0m \u001b[0;34m=\u001b[0m \u001b[0mdataset\u001b[0m\u001b[0;34m.\u001b[0m\u001b[0mDataset\u001b[0m\u001b[0;34m(\u001b[0m\u001b[0mdsid\u001b[0m\u001b[0;34m)\u001b[0m\u001b[0;34m\u001b[0m\u001b[0;34m\u001b[0m\u001b[0m\n\u001b[1;32m    150\u001b[0m             \u001b[0;32mreturn\u001b[0m \u001b[0mdset\u001b[0m\u001b[0;34m\u001b[0m\u001b[0;34m\u001b[0m\u001b[0m\n",
      "\u001b[0;32m~/miniconda3/lib/python3.8/site-packages/h5py/_hl/dataset.py\u001b[0m in \u001b[0;36mmake_new_dset\u001b[0;34m(parent, shape, dtype, data, name, chunks, compression, shuffle, fletcher32, maxshape, compression_opts, fillvalue, scaleoffset, track_times, external, track_order, dcpl, allow_unknown_filter)\u001b[0m\n\u001b[1;32m    135\u001b[0m \u001b[0;34m\u001b[0m\u001b[0m\n\u001b[1;32m    136\u001b[0m \u001b[0;34m\u001b[0m\u001b[0m\n\u001b[0;32m--> 137\u001b[0;31m     \u001b[0mdset_id\u001b[0m \u001b[0;34m=\u001b[0m \u001b[0mh5d\u001b[0m\u001b[0;34m.\u001b[0m\u001b[0mcreate\u001b[0m\u001b[0;34m(\u001b[0m\u001b[0mparent\u001b[0m\u001b[0;34m.\u001b[0m\u001b[0mid\u001b[0m\u001b[0;34m,\u001b[0m \u001b[0mname\u001b[0m\u001b[0;34m,\u001b[0m \u001b[0mtid\u001b[0m\u001b[0;34m,\u001b[0m \u001b[0msid\u001b[0m\u001b[0;34m,\u001b[0m \u001b[0mdcpl\u001b[0m\u001b[0;34m=\u001b[0m\u001b[0mdcpl\u001b[0m\u001b[0;34m)\u001b[0m\u001b[0;34m\u001b[0m\u001b[0;34m\u001b[0m\u001b[0m\n\u001b[0m\u001b[1;32m    138\u001b[0m \u001b[0;34m\u001b[0m\u001b[0m\n\u001b[1;32m    139\u001b[0m     \u001b[0;32mif\u001b[0m \u001b[0;34m(\u001b[0m\u001b[0mdata\u001b[0m \u001b[0;32mis\u001b[0m \u001b[0;32mnot\u001b[0m \u001b[0;32mNone\u001b[0m\u001b[0;34m)\u001b[0m \u001b[0;32mand\u001b[0m \u001b[0;34m(\u001b[0m\u001b[0;32mnot\u001b[0m \u001b[0misinstance\u001b[0m\u001b[0;34m(\u001b[0m\u001b[0mdata\u001b[0m\u001b[0;34m,\u001b[0m \u001b[0mEmpty\u001b[0m\u001b[0;34m)\u001b[0m\u001b[0;34m)\u001b[0m\u001b[0;34m:\u001b[0m\u001b[0;34m\u001b[0m\u001b[0;34m\u001b[0m\u001b[0m\n",
      "\u001b[0;32mh5py/_objects.pyx\u001b[0m in \u001b[0;36mh5py._objects.with_phil.wrapper\u001b[0;34m()\u001b[0m\n",
      "\u001b[0;32mh5py/_objects.pyx\u001b[0m in \u001b[0;36mh5py._objects.with_phil.wrapper\u001b[0;34m()\u001b[0m\n",
      "\u001b[0;32mh5py/h5d.pyx\u001b[0m in \u001b[0;36mh5py.h5d.create\u001b[0;34m()\u001b[0m\n",
      "\u001b[0;31mValueError\u001b[0m: Unable to create dataset (name already exists)"
     ]
    }
   ],
   "source": [
    "f = h5py.File(\"../data/t2t/chm13.draft_v1.0.hifi.bam.mv5\", 'r+')\n",
    "\n",
    "row_infos = [\n",
    "    {'name': 'M', 'color': '#DCDCDC'},  #M\n",
    "    {'name': 'A', 'color': '#08519c'},  #A\n",
    "    {'name': 'C', 'color': '#fe9929'},  #C\n",
    "    {'name': 'G', 'color': '#993404'},  #G\n",
    "    {'name': 'T', 'color': '#6baed6'},  #T\n",
    "    {'name': 'S', 'color': '#808080'},  #S\n",
    "    {'name': 'I', 'color': 'rgba(255, 0, 255, 0.5)'},      #I\n",
    "    {'name': 'D', 'color': 'rgba(255, 128, 128, 0.5)'},      #D\n",
    "    {'name': 'H', 'color': 'rgba(40, 40, 40, 0.5)'},      #H\n",
    "    {'name': 'N', 'color': 'rgba(10, 10, 10, 0.5)'}      #N\n",
    "]\n",
    "\n",
    "import json\n",
    "f['info'].create_dataset('row_infos', data=json.dumps(row_infos))\n",
    "print(f['info'])"
   ]
  },
  {
   "cell_type": "code",
   "execution_count": 310,
   "metadata": {},
   "outputs": [],
   "source": [
    "f.close()"
   ]
  },
  {
   "cell_type": "code",
   "execution_count": 260,
   "metadata": {},
   "outputs": [],
   "source": [
    "def min_agg(x):\n",
    "    return np.min(x.T.reshape((x.shape[1], -1, 2)), axis=2).T\n",
    "\n",
    "def max_agg(x):\n",
    "    return np.max(x.T.reshape((x.shape[1], -1, 2)), axis=2).T\n",
    "\n",
    "def min_max_agg(x, min_cols, max_cols, combine):\n",
    "    mins = min_agg(x[:,min_cols])\n",
    "    maxs = max_agg(x[:,max_cols])\n",
    "    \n",
    "    new_arr = np.array([[]])\n",
    "    \n",
    "    new_arr = np.hstack(combine(mins, maxs))\n",
    "    return new_arr\n",
    "    \n",
    "arr = np.array([[1,2,3],[4,5,6],[14,8,9],[10,11,12]])\n",
    "\n",
    "min_max_agg(arr, min_cols=[1], max_cols=[0,2],\n",
    "            combine=lambda mins, maxs: [maxs[:,[0]], mins[:,[0]], maxs[:,[1]]])\n",
    "\n",
    "all_cols = list(range(10))\n",
    "\n",
    "bam_min_max_agg = lambda arr: min_max_agg(\n",
    "    arr, min_cols=[0], max_cols=all_cols[1:],\n",
    "    combine=lambda mins, maxs: [mins[:,[0]], maxs[:,all_cols[:-1]]]\n",
    ")"
   ]
  },
  {
   "cell_type": "code",
   "execution_count": 293,
   "metadata": {},
   "outputs": [],
   "source": [
    "def reads_to_array(f_in, h_out, ref, chrom_len, start=None, end=None):\n",
    "    \"\"\"Convert BAM file reads to an HDF5 array.\n",
    "\n",
    "    Arguments:\n",
    "\n",
    "    f_in: The pysam AlignmentFile handle\n",
    "    h_out: An hdf5 file handle to store the output arrays\n",
    "    ref: The chromosome name\n",
    "    chrom_len: The length of the chromosome\n",
    "\n",
    "    \"\"\"\n",
    "    logger.info(\"Creating array for chrom: %s with length: %d\", ref, chrom_len)\n",
    "    if not start:\n",
    "        start = 0\n",
    "    if not end:\n",
    "        end = chrom_len\n",
    "        \n",
    "    reads = f_in.fetch(ref, start, end)\n",
    "\n",
    "    arr = np.zeros((10, chrom_len))\n",
    "\n",
    "    subs = {\n",
    "        \"M\": 0,\n",
    "        \"A\": 1,\n",
    "        \"C\": 2,\n",
    "        \"G\": 3,\n",
    "        \"T\": 4,\n",
    "        \"S\": 5,\n",
    "        \"I\": 6,\n",
    "        \"D\": 7,\n",
    "        \"H\": 8,\n",
    "        \"N\": 9\n",
    "    }\n",
    "\n",
    "    logger.info(\"Finished allocating arrays\")\n",
    "    counter = 0\n",
    "\n",
    "    for read in reads:\n",
    "        counter += 1\n",
    "\n",
    "        if counter % 5000 == 0:\n",
    "            logger.info(\"Processed %d reads\", counter)\n",
    "\n",
    "        if read.reference_start is None or read.reference_end is None:\n",
    "            continue\n",
    "            \n",
    "        if read.query_sequence:\n",
    "            try:\n",
    "                ap = [\n",
    "                    p\n",
    "                    for p in read.get_aligned_pairs(with_seq=True, matches_only=True)\n",
    "                    if p[2].islower()\n",
    "                ]\n",
    "\n",
    "                for p in ap:\n",
    "                    arr[subs[\"M\"]][p[1] + 1] -= 1\n",
    "                    arr[subs[read.query_sequence[p[0]]]][p[1] + 1] += 1\n",
    "            except ValueError:\n",
    "                continue\n",
    "\n",
    "        #     print(\"read\", read.reference_start)\n",
    "        arr[subs[\"M\"]][read.reference_start + 1 : read.reference_end + 1] += 1\n",
    "\n",
    "        for start, op, oplen in get_cigar_substitutions(read):\n",
    "            if op == \"I\":\n",
    "                arr[subs[op]][start + 1] += 1\n",
    "            else:\n",
    "                arr[subs[op]][start + 1 : start + 1 + oplen] += 1\n",
    "            \n",
    "            if op == 'D':\n",
    "                arr[subs['M']][start + 1 : start + 1 + oplen] -= 1\n",
    "\n",
    "\n",
    "\n",
    "    logger.info(\"Dumping array with shape: %s\", str(arr.T.shape))\n",
    "\n",
    "    h_out.create_dataset(ref, data=arr.T, compression=\"gzip\")\n",
    "    pass"
   ]
  },
  {
   "cell_type": "code",
   "execution_count": 301,
   "metadata": {},
   "outputs": [
    {
     "name": "stdout",
     "output_type": "stream",
     "text": [
      "CPU times: user 771 ms, sys: 68.5 ms, total: 840 ms\n",
      "Wall time: 846 ms\n"
     ]
    }
   ],
   "source": [
    "%%time\n",
    "\n",
    "# filename = '../data/t2t/chm13.draft_v1.0.hifi.bam'\n",
    "# indexfile = '../data/t2t/chm13.draft_v1.0.hifi.bam.bai'\n",
    "output_file = '../data/t2t/out.mv5'\n",
    "filename = '../data/t2t/small.bam'\n",
    "indexfile = '../data/t2t/small.bam.bai'\n",
    "\n",
    "f = pysam.AlignmentFile(filename, index_filename=indexfile)\n",
    "\n",
    "from tempfile import TemporaryDirectory\n",
    "import h5py\n",
    "import os.path as op\n",
    "\n",
    "import logging\n",
    "\n",
    "logger = logging.getLogger(__name__)\n",
    "import clodius.multivec as cmv\n",
    "\n",
    "# region = [52_023_000, 52_024_000]\n",
    "region = [0, 200_000]\n",
    "references = ['chr1']\n",
    "# region = [8_000_000, 11_000_000]\n",
    "lengths = [region[1] + 100_000]\n",
    "\n",
    "start = region[0]\n",
    "end=region[1]\n",
    "\n",
    "# references = ['chr1']\n",
    "# lengths = [200_000]\n",
    "\n",
    "# ref = 'chr1'\n",
    "# start = 0\n",
    "# end=1000\n",
    "\n",
    "row_infos = [\n",
    "    {'name': 'M', 'color': '#DCDCDC'},  #M\n",
    "    {'name': 'A', 'color': '#08519c'},  #A\n",
    "    {'name': 'C', 'color': '#fe9929'},  #C\n",
    "    {'name': 'G', 'color': '#993404'},  #G\n",
    "    {'name': 'T', 'color': '#6baed6'},  #T\n",
    "    {'name': 'S', 'color': '#808080'},  #S\n",
    "    {'name': 'I', 'color': 'rgba(255, 0, 255, 0.5)'},      #I\n",
    "    {'name': 'D', 'color': 'rgba(255, 128, 128, 0.5)'},      #D\n",
    "    {'name': 'H', 'color': 'rgba(40, 40, 40, 0.5)'},      #H\n",
    "    {'name': 'N', 'color': 'rgba(10, 10, 10, 0.5)'}      #N\n",
    "]\n",
    "\n",
    "\n",
    "with TemporaryDirectory() as tmp_dir:\n",
    "    h_mid = h5py.File(op.join(tmp_dir, \"mid.h5\"), \"w\")\n",
    "\n",
    "    reads_to_array(f, h_mid, references[0], lengths[0], start=start, end=end)\n",
    "\n",
    "    logger.info(\"Creating multivec array\")\n",
    "    cmv.create_multivec_multires(\n",
    "        h_mid,\n",
    "        zip(references, lengths),\n",
    "#         agg=sum_agg,\n",
    "#         agg=min_agg,\n",
    "        agg=my_min_max_agg,\n",
    "        #     agg=log_sum_exp_agg,\n",
    "        starting_resolution=1,\n",
    "        row_infos=row_infos,\n",
    "        output_file=output_file,\n",
    "        tile_size=256,\n",
    "    )"
   ]
  },
  {
   "cell_type": "code",
   "execution_count": 302,
   "metadata": {},
   "outputs": [
    {
     "name": "stdout",
     "output_type": "stream",
     "text": [
      "chromsizes [('chr1', 300000)]\n",
      "['chr1']\n",
      "[300000]\n"
     ]
    },
    {
     "data": {
      "application/vnd.jupyter.widget-view+json": {
       "model_id": "6784385ea7ca47d6b5f9841dcb2a2fa3",
       "version_major": 2,
       "version_minor": 0
      },
      "text/plain": [
       "HiGlassDisplay(viewconf={'editable': True, 'views': [{'uid': 'YIK01R9PQYKMLEOyzmDZZg', 'tracks': {'top': [{'ty…"
      ]
     },
     "metadata": {},
     "output_type": "display_data"
    }
   ],
   "source": [
    "import higlass\n",
    "from higlass.tilesets import multivec, bam\n",
    "from higlass.client import Track, View\n",
    "\n",
    "import pandas as pd\n",
    "\n",
    "def chromsizes_array_to_series(chromsizes):\n",
    "    \"\"\"\n",
    "    Convert an array of [[chrname, size]...] values to a series\n",
    "    indexed by chrname with size values\n",
    "    \"\"\"\n",
    "    print('chromsizes', list(chromsizes))\n",
    "    \n",
    "    chrnames = [c[0] for c in chromsizes]\n",
    "    chrvalues = [c[1] for c in chromsizes]\n",
    "\n",
    "    print(chrnames)\n",
    "    print(chrvalues)\n",
    "    return pd.Series(np.array([int(c) for c in chrvalues]), index=chrnames)\n",
    "\n",
    "chromsizes = chromsizes_array_to_series(list(zip(references, lengths)))\n",
    "ts = multivec(\"../data/t2t/out.mv5\")\n",
    "bam_ts = bam(filename,\n",
    "            chromsizes=chromsizes)\n",
    "\n",
    "display, server, viewconf = higlass.display(\n",
    "    [View([\n",
    "        Track('top-axis', height=20),\n",
    "        Track(track_type=\"horizontal-stacked-bar\",\n",
    "              position='top', tileset=ts, height=100,\n",
    "              options={\"valueScaling\": \"log\"} ),\n",
    "        Track(track_type=\"pileup\", position=\"top\", tileset=bam_ts, height=200)\n",
    "    ], initialXDomain=region)]\n",
    ")\n",
    "display\n",
    "\n",
    "# regions: 2110500000\n",
    "# regions: 2216940000\n",
    "# regions: 2320000000\n",
    "# regions: 2810000000\n",
    "# regions: 2856000000"
   ]
  },
  {
   "cell_type": "code",
   "execution_count": 238,
   "metadata": {},
   "outputs": [
    {
     "ename": "ValueError",
     "evalue": "invalid coordinates: start (52030000) > stop (20000000)",
     "output_type": "error",
     "traceback": [
      "\u001b[0;31m---------------------------------------------------------------------------\u001b[0m",
      "\u001b[0;31mValueError\u001b[0m                                Traceback (most recent call last)",
      "\u001b[0;32m<timed eval>\u001b[0m in \u001b[0;36m<module>\u001b[0;34m\u001b[0m\n",
      "\u001b[0;32m<ipython-input-158-a9667b81788a>\u001b[0m in \u001b[0;36mreads_to_array\u001b[0;34m(f_in, h_out, ref, chrom_len, start, end)\u001b[0m\n\u001b[1;32m     16\u001b[0m         \u001b[0mend\u001b[0m \u001b[0;34m=\u001b[0m \u001b[0mchrom_len\u001b[0m\u001b[0;34m\u001b[0m\u001b[0;34m\u001b[0m\u001b[0m\n\u001b[1;32m     17\u001b[0m \u001b[0;34m\u001b[0m\u001b[0m\n\u001b[0;32m---> 18\u001b[0;31m     \u001b[0mreads\u001b[0m \u001b[0;34m=\u001b[0m \u001b[0mf_in\u001b[0m\u001b[0;34m.\u001b[0m\u001b[0mfetch\u001b[0m\u001b[0;34m(\u001b[0m\u001b[0mref\u001b[0m\u001b[0;34m,\u001b[0m \u001b[0mstart\u001b[0m\u001b[0;34m,\u001b[0m \u001b[0mend\u001b[0m\u001b[0;34m)\u001b[0m\u001b[0;34m\u001b[0m\u001b[0;34m\u001b[0m\u001b[0m\n\u001b[0m\u001b[1;32m     19\u001b[0m \u001b[0;34m\u001b[0m\u001b[0m\n\u001b[1;32m     20\u001b[0m     \u001b[0marr\u001b[0m \u001b[0;34m=\u001b[0m \u001b[0mnp\u001b[0m\u001b[0;34m.\u001b[0m\u001b[0mzeros\u001b[0m\u001b[0;34m(\u001b[0m\u001b[0;34m(\u001b[0m\u001b[0;36m10\u001b[0m\u001b[0;34m,\u001b[0m \u001b[0mchrom_len\u001b[0m\u001b[0;34m)\u001b[0m\u001b[0;34m)\u001b[0m\u001b[0;34m\u001b[0m\u001b[0;34m\u001b[0m\u001b[0m\n",
      "\u001b[0;32mpysam/libcalignmentfile.pyx\u001b[0m in \u001b[0;36mpysam.libcalignmentfile.AlignmentFile.fetch\u001b[0;34m()\u001b[0m\n",
      "\u001b[0;32mpysam/libchtslib.pyx\u001b[0m in \u001b[0;36mpysam.libchtslib.HTSFile.parse_region\u001b[0;34m()\u001b[0m\n",
      "\u001b[0;31mValueError\u001b[0m: invalid coordinates: start (52030000) > stop (20000000)"
     ]
    }
   ],
   "source": [
    "%%time\n",
    "\n",
    "\n",
    "reads_to_array(f, h_mid, ref, lengths[0], start=52_030_000, end=end)\n"
   ]
  },
  {
   "cell_type": "code",
   "execution_count": 263,
   "metadata": {
    "scrolled": true
   },
   "outputs": [
    {
     "data": {
      "application/vnd.jupyter.widget-view+json": {
       "model_id": "3ad9c495343a4327a2d19dbf1d7ec239",
       "version_major": 2,
       "version_minor": 0
      },
      "text/plain": [
       "HiGlassDisplay(viewconf={'editable': True, 'views': [{'uid': 'cLq8ZK7USlmjujAWBi_nFA', 'tracks': {'top': [{'ty…"
      ]
     },
     "metadata": {},
     "output_type": "display_data"
    }
   ],
   "source": [
    "import higlass\n",
    "from higlass.client import Track, View\n",
    "\n",
    "display, server, viewconf = higlass.display(\n",
    "    [View([\n",
    "        Track('top-axis', height=20),\n",
    "        Track(track_type=\"horizontal-stacked-bar\", position='top', tileset=ts, height=50,\n",
    "              options={\"colorScale\": colorScale, \"valueScaling\": \"log\"} ),\n",
    "        Track(track_type=\"pileup\", position='top', tileset=bam_ts, height=200 )\n",
    "    ])]\n",
    ")\n",
    "display"
   ]
  },
  {
   "cell_type": "code",
   "execution_count": 113,
   "metadata": {},
   "outputs": [],
   "source": [
    "from higlass.tilesets import Tileset, bam\n",
    "\n",
    "# def bam(filepath, index_filename, uuid=None, **kwargs):\n",
    "#     from clodius.tiles.bam import tileset_info, tiles\n",
    "\n",
    "#     return Tileset(\n",
    "#         uuid=uuid,\n",
    "#         tileset_info=lambda: tileset_info(filepath),\n",
    "#         tiles=lambda tile_ids: tiles(filepath, tile_ids, index_filename=index_filename),\n",
    "#         **kwargs\n",
    "#     )\n",
    "\n",
    "bam_ts = bam(filename,indexfile)"
   ]
  },
  {
   "cell_type": "code",
   "execution_count": 114,
   "metadata": {},
   "outputs": [
    {
     "data": {
      "application/vnd.jupyter.widget-view+json": {
       "model_id": "90e2f4741fdd4dbb8effdae3337112d2",
       "version_major": 2,
       "version_minor": 0
      },
      "text/plain": [
       "HiGlassDisplay(viewconf={'editable': True, 'views': [{'uid': 'KSNHPIFhRbWkKUWm3v0CAw', 'tracks': {'top': [{'ty…"
      ]
     },
     "metadata": {},
     "output_type": "display_data"
    }
   ],
   "source": [
    "import higlass\n",
    "from higlass.tilesets import Tileset, bam\n",
    "from higlass.client import Track, View\n",
    "\n",
    "bam_ts = bam(filename,indexfile)\n",
    "\n",
    "display, server, viewconf = higlass.display(\n",
    "    [View([\n",
    "        Track('top-axis', height=20),\n",
    "        Track(track_type=\"pileup\", position='top', tileset=bam_ts, height=200 )\n",
    "    ], initialXDomain = [\n",
    "        0,\n",
    "        2000\n",
    "      ])]\n",
    ")\n",
    "display"
   ]
  },
  {
   "cell_type": "code",
   "execution_count": 10,
   "metadata": {},
   "outputs": [
    {
     "data": {
      "application/vnd.jupyter.widget-view+json": {
       "model_id": "834f4c36e2964e218740b16280fc8fe3",
       "version_major": 2,
       "version_minor": 0
      },
      "text/plain": [
       "HiGlassDisplay(viewconf={'editable': True, 'views': [{'uid': 'AZ5AQQ6xS_iq3GH7drwBHQ', 'tracks': {'top': [{'ty…"
      ]
     },
     "metadata": {},
     "output_type": "display_data"
    }
   ],
   "source": []
  },
  {
   "cell_type": "code",
   "execution_count": null,
   "metadata": {},
   "outputs": [],
   "source": []
  }
 ],
 "metadata": {
  "kernelspec": {
   "display_name": "Python 3",
   "language": "python",
   "name": "python3"
  },
  "language_info": {
   "codemirror_mode": {
    "name": "ipython",
    "version": 3
   },
   "file_extension": ".py",
   "mimetype": "text/x-python",
   "name": "python",
   "nbconvert_exporter": "python",
   "pygments_lexer": "ipython3",
   "version": "3.8.3"
  }
 },
 "nbformat": 4,
 "nbformat_minor": 4
}
